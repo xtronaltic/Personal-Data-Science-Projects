{
 "cells": [
  {
   "cell_type": "markdown",
   "metadata": {},
   "source": [
    "### Summary: Python Script \n",
    "### Last Modified: 11/08/2020"
   ]
  },
  {
   "cell_type": "code",
   "execution_count": 1,
   "metadata": {},
   "outputs": [],
   "source": [
    "# Import the libraries\n",
    "\n",
    "import pandas as pd\n",
    "import matplotlib.pyplot as plt\n",
    "%matplotlib inline\n",
    "import seaborn as sns\n",
    "sns.set()\n",
    "import json\n",
    "import csv"
   ]
  },
  {
   "cell_type": "code",
   "execution_count": 2,
   "metadata": {},
   "outputs": [],
   "source": [
    "# Read datasets\n",
    "\n",
    "SheetA = pd.read_csv('C:\\\\Users\\\\Leo\\\\Desktop\\\\Lodestone\\\\SheetA.csv')\n",
    "SheetB = pd.read_csv('C:\\\\Users\\\\Leo\\\\Desktop\\\\Lodestone\\\\SheetB.csv')\n",
    "SheetC = pd.read_csv('C:\\\\Users\\\\Leo\\\\Desktop\\\\Lodestone\\\\SheetC.csv')"
   ]
  },
  {
   "cell_type": "code",
   "execution_count": 3,
   "metadata": {},
   "outputs": [
    {
     "data": {
      "text/html": [
       "<div>\n",
       "<style scoped>\n",
       "    .dataframe tbody tr th:only-of-type {\n",
       "        vertical-align: middle;\n",
       "    }\n",
       "\n",
       "    .dataframe tbody tr th {\n",
       "        vertical-align: top;\n",
       "    }\n",
       "\n",
       "    .dataframe thead th {\n",
       "        text-align: right;\n",
       "    }\n",
       "</style>\n",
       "<table border=\"1\" class=\"dataframe\">\n",
       "  <thead>\n",
       "    <tr style=\"text-align: right;\">\n",
       "      <th></th>\n",
       "      <th>grill_type</th>\n",
       "      <th>pre_heat_time</th>\n",
       "      <th>fuel_cost_per_meal</th>\n",
       "      <th>market_share</th>\n",
       "      <th>easiness_to_use</th>\n",
       "      <th>life_span_year</th>\n",
       "      <th>initial_investment</th>\n",
       "    </tr>\n",
       "  </thead>\n",
       "  <tbody>\n",
       "    <tr>\n",
       "      <th>0</th>\n",
       "      <td>Charcoal</td>\n",
       "      <td>1200</td>\n",
       "      <td>2.00</td>\n",
       "      <td>0.44</td>\n",
       "      <td>-1</td>\n",
       "      <td>3</td>\n",
       "      <td>91</td>\n",
       "    </tr>\n",
       "    <tr>\n",
       "      <th>1</th>\n",
       "      <td>Propane</td>\n",
       "      <td>480</td>\n",
       "      <td>1.55</td>\n",
       "      <td>0.64</td>\n",
       "      <td>2</td>\n",
       "      <td>3</td>\n",
       "      <td>139</td>\n",
       "    </tr>\n",
       "  </tbody>\n",
       "</table>\n",
       "</div>"
      ],
      "text/plain": [
       "  grill_type  pre_heat_time  fuel_cost_per_meal  market_share  \\\n",
       "0   Charcoal           1200                2.00          0.44   \n",
       "1    Propane            480                1.55          0.64   \n",
       "\n",
       "   easiness_to_use  life_span_year  initial_investment  \n",
       "0               -1               3                  91  \n",
       "1                2               3                 139  "
      ]
     },
     "execution_count": 3,
     "metadata": {},
     "output_type": "execute_result"
    }
   ],
   "source": [
    "# Examining SheetA\n",
    "\n",
    "SheetA.head()"
   ]
  },
  {
   "cell_type": "code",
   "execution_count": 4,
   "metadata": {},
   "outputs": [
    {
     "data": {
      "text/html": [
       "<div>\n",
       "<style scoped>\n",
       "    .dataframe tbody tr th:only-of-type {\n",
       "        vertical-align: middle;\n",
       "    }\n",
       "\n",
       "    .dataframe tbody tr th {\n",
       "        vertical-align: top;\n",
       "    }\n",
       "\n",
       "    .dataframe thead th {\n",
       "        text-align: right;\n",
       "    }\n",
       "</style>\n",
       "<table border=\"1\" class=\"dataframe\">\n",
       "  <thead>\n",
       "    <tr style=\"text-align: right;\">\n",
       "      <th></th>\n",
       "      <th>count</th>\n",
       "      <th>mean</th>\n",
       "      <th>std</th>\n",
       "      <th>min</th>\n",
       "      <th>25%</th>\n",
       "      <th>50%</th>\n",
       "      <th>75%</th>\n",
       "      <th>max</th>\n",
       "    </tr>\n",
       "  </thead>\n",
       "  <tbody>\n",
       "    <tr>\n",
       "      <th>pre_heat_time</th>\n",
       "      <td>2.0</td>\n",
       "      <td>840.000</td>\n",
       "      <td>509.116882</td>\n",
       "      <td>480.00</td>\n",
       "      <td>660.0000</td>\n",
       "      <td>840.000</td>\n",
       "      <td>1020.0000</td>\n",
       "      <td>1200.00</td>\n",
       "    </tr>\n",
       "    <tr>\n",
       "      <th>fuel_cost_per_meal</th>\n",
       "      <td>2.0</td>\n",
       "      <td>1.775</td>\n",
       "      <td>0.318198</td>\n",
       "      <td>1.55</td>\n",
       "      <td>1.6625</td>\n",
       "      <td>1.775</td>\n",
       "      <td>1.8875</td>\n",
       "      <td>2.00</td>\n",
       "    </tr>\n",
       "    <tr>\n",
       "      <th>market_share</th>\n",
       "      <td>2.0</td>\n",
       "      <td>0.540</td>\n",
       "      <td>0.141421</td>\n",
       "      <td>0.44</td>\n",
       "      <td>0.4900</td>\n",
       "      <td>0.540</td>\n",
       "      <td>0.5900</td>\n",
       "      <td>0.64</td>\n",
       "    </tr>\n",
       "    <tr>\n",
       "      <th>easiness_to_use</th>\n",
       "      <td>2.0</td>\n",
       "      <td>0.500</td>\n",
       "      <td>2.121320</td>\n",
       "      <td>-1.00</td>\n",
       "      <td>-0.2500</td>\n",
       "      <td>0.500</td>\n",
       "      <td>1.2500</td>\n",
       "      <td>2.00</td>\n",
       "    </tr>\n",
       "    <tr>\n",
       "      <th>life_span_year</th>\n",
       "      <td>2.0</td>\n",
       "      <td>3.000</td>\n",
       "      <td>0.000000</td>\n",
       "      <td>3.00</td>\n",
       "      <td>3.0000</td>\n",
       "      <td>3.000</td>\n",
       "      <td>3.0000</td>\n",
       "      <td>3.00</td>\n",
       "    </tr>\n",
       "    <tr>\n",
       "      <th>initial_investment</th>\n",
       "      <td>2.0</td>\n",
       "      <td>115.000</td>\n",
       "      <td>33.941125</td>\n",
       "      <td>91.00</td>\n",
       "      <td>103.0000</td>\n",
       "      <td>115.000</td>\n",
       "      <td>127.0000</td>\n",
       "      <td>139.00</td>\n",
       "    </tr>\n",
       "  </tbody>\n",
       "</table>\n",
       "</div>"
      ],
      "text/plain": [
       "                    count     mean         std     min       25%      50%  \\\n",
       "pre_heat_time         2.0  840.000  509.116882  480.00  660.0000  840.000   \n",
       "fuel_cost_per_meal    2.0    1.775    0.318198    1.55    1.6625    1.775   \n",
       "market_share          2.0    0.540    0.141421    0.44    0.4900    0.540   \n",
       "easiness_to_use       2.0    0.500    2.121320   -1.00   -0.2500    0.500   \n",
       "life_span_year        2.0    3.000    0.000000    3.00    3.0000    3.000   \n",
       "initial_investment    2.0  115.000   33.941125   91.00  103.0000  115.000   \n",
       "\n",
       "                          75%      max  \n",
       "pre_heat_time       1020.0000  1200.00  \n",
       "fuel_cost_per_meal     1.8875     2.00  \n",
       "market_share           0.5900     0.64  \n",
       "easiness_to_use        1.2500     2.00  \n",
       "life_span_year         3.0000     3.00  \n",
       "initial_investment   127.0000   139.00  "
      ]
     },
     "execution_count": 4,
     "metadata": {},
     "output_type": "execute_result"
    }
   ],
   "source": [
    "SheetA.describe().T"
   ]
  },
  {
   "cell_type": "code",
   "execution_count": 5,
   "metadata": {},
   "outputs": [
    {
     "data": {
      "text/html": [
       "<div>\n",
       "<style scoped>\n",
       "    .dataframe tbody tr th:only-of-type {\n",
       "        vertical-align: middle;\n",
       "    }\n",
       "\n",
       "    .dataframe tbody tr th {\n",
       "        vertical-align: top;\n",
       "    }\n",
       "\n",
       "    .dataframe thead th {\n",
       "        text-align: right;\n",
       "    }\n",
       "</style>\n",
       "<table border=\"1\" class=\"dataframe\">\n",
       "  <thead>\n",
       "    <tr style=\"text-align: right;\">\n",
       "      <th></th>\n",
       "      <th>item_material</th>\n",
       "      <th>device_id</th>\n",
       "      <th>grill_type</th>\n",
       "      <th>user_satisfaction</th>\n",
       "      <th>fuel_cost</th>\n",
       "    </tr>\n",
       "  </thead>\n",
       "  <tbody>\n",
       "    <tr>\n",
       "      <th>0</th>\n",
       "      <td>Ground Beef Patty</td>\n",
       "      <td>1</td>\n",
       "      <td>Charcoal</td>\n",
       "      <td>-0.9</td>\n",
       "      <td>400.500</td>\n",
       "    </tr>\n",
       "    <tr>\n",
       "      <th>1</th>\n",
       "      <td>Ground Beef Patty</td>\n",
       "      <td>3</td>\n",
       "      <td>Charcoal</td>\n",
       "      <td>-1.3</td>\n",
       "      <td>399.600</td>\n",
       "    </tr>\n",
       "    <tr>\n",
       "      <th>2</th>\n",
       "      <td>Ground Beef Patty</td>\n",
       "      <td>5</td>\n",
       "      <td>Charcoal</td>\n",
       "      <td>-2.5</td>\n",
       "      <td>389.730</td>\n",
       "    </tr>\n",
       "    <tr>\n",
       "      <th>3</th>\n",
       "      <td>Ground Beef Patty</td>\n",
       "      <td>7</td>\n",
       "      <td>Charcoal</td>\n",
       "      <td>-1.7</td>\n",
       "      <td>402.399</td>\n",
       "    </tr>\n",
       "    <tr>\n",
       "      <th>4</th>\n",
       "      <td>Hotdog</td>\n",
       "      <td>1</td>\n",
       "      <td>Charcoal</td>\n",
       "      <td>-1.3</td>\n",
       "      <td>372.445</td>\n",
       "    </tr>\n",
       "  </tbody>\n",
       "</table>\n",
       "</div>"
      ],
      "text/plain": [
       "       item_material  device_id grill_type  user_satisfaction  fuel_cost\n",
       "0  Ground Beef Patty          1   Charcoal               -0.9    400.500\n",
       "1  Ground Beef Patty          3   Charcoal               -1.3    399.600\n",
       "2  Ground Beef Patty          5   Charcoal               -2.5    389.730\n",
       "3  Ground Beef Patty          7   Charcoal               -1.7    402.399\n",
       "4             Hotdog          1   Charcoal               -1.3    372.445"
      ]
     },
     "execution_count": 5,
     "metadata": {},
     "output_type": "execute_result"
    }
   ],
   "source": [
    "# Examining SheetB\n",
    "\n",
    "SheetB.head()"
   ]
  },
  {
   "cell_type": "code",
   "execution_count": 6,
   "metadata": {},
   "outputs": [
    {
     "data": {
      "text/html": [
       "<div>\n",
       "<style scoped>\n",
       "    .dataframe tbody tr th:only-of-type {\n",
       "        vertical-align: middle;\n",
       "    }\n",
       "\n",
       "    .dataframe tbody tr th {\n",
       "        vertical-align: top;\n",
       "    }\n",
       "\n",
       "    .dataframe thead th {\n",
       "        text-align: right;\n",
       "    }\n",
       "</style>\n",
       "<table border=\"1\" class=\"dataframe\">\n",
       "  <thead>\n",
       "    <tr style=\"text-align: right;\">\n",
       "      <th></th>\n",
       "      <th>count</th>\n",
       "      <th>mean</th>\n",
       "      <th>std</th>\n",
       "      <th>min</th>\n",
       "      <th>25%</th>\n",
       "      <th>50%</th>\n",
       "      <th>75%</th>\n",
       "      <th>max</th>\n",
       "    </tr>\n",
       "  </thead>\n",
       "  <tbody>\n",
       "    <tr>\n",
       "      <th>device_id</th>\n",
       "      <td>24.0</td>\n",
       "      <td>4.500000</td>\n",
       "      <td>2.340568</td>\n",
       "      <td>1.000</td>\n",
       "      <td>2.75000</td>\n",
       "      <td>4.50</td>\n",
       "      <td>6.2500</td>\n",
       "      <td>8.000</td>\n",
       "    </tr>\n",
       "    <tr>\n",
       "      <th>user_satisfaction</th>\n",
       "      <td>24.0</td>\n",
       "      <td>0.133333</td>\n",
       "      <td>1.799919</td>\n",
       "      <td>-2.500</td>\n",
       "      <td>-1.30000</td>\n",
       "      <td>-0.05</td>\n",
       "      <td>1.8500</td>\n",
       "      <td>2.800</td>\n",
       "    </tr>\n",
       "    <tr>\n",
       "      <th>fuel_cost</th>\n",
       "      <td>24.0</td>\n",
       "      <td>269.499208</td>\n",
       "      <td>114.449928</td>\n",
       "      <td>140.875</td>\n",
       "      <td>156.13125</td>\n",
       "      <td>269.60</td>\n",
       "      <td>374.9055</td>\n",
       "      <td>402.399</td>\n",
       "    </tr>\n",
       "  </tbody>\n",
       "</table>\n",
       "</div>"
      ],
      "text/plain": [
       "                   count        mean         std      min        25%     50%  \\\n",
       "device_id           24.0    4.500000    2.340568    1.000    2.75000    4.50   \n",
       "user_satisfaction   24.0    0.133333    1.799919   -2.500   -1.30000   -0.05   \n",
       "fuel_cost           24.0  269.499208  114.449928  140.875  156.13125  269.60   \n",
       "\n",
       "                        75%      max  \n",
       "device_id            6.2500    8.000  \n",
       "user_satisfaction    1.8500    2.800  \n",
       "fuel_cost          374.9055  402.399  "
      ]
     },
     "execution_count": 6,
     "metadata": {},
     "output_type": "execute_result"
    }
   ],
   "source": [
    "SheetB.describe().T"
   ]
  },
  {
   "cell_type": "code",
   "execution_count": 7,
   "metadata": {},
   "outputs": [
    {
     "name": "stdout",
     "output_type": "stream",
     "text": [
      "<class 'pandas.core.frame.DataFrame'>\n",
      "RangeIndex: 24 entries, 0 to 23\n",
      "Data columns (total 5 columns):\n",
      " #   Column             Non-Null Count  Dtype  \n",
      "---  ------             --------------  -----  \n",
      " 0   item_material      24 non-null     object \n",
      " 1   device_id          24 non-null     int64  \n",
      " 2   grill_type         24 non-null     object \n",
      " 3   user_satisfaction  24 non-null     float64\n",
      " 4   fuel_cost          24 non-null     float64\n",
      "dtypes: float64(2), int64(1), object(2)\n",
      "memory usage: 1.1+ KB\n"
     ]
    }
   ],
   "source": [
    "SheetB.info()"
   ]
  },
  {
   "cell_type": "code",
   "execution_count": 8,
   "metadata": {},
   "outputs": [
    {
     "data": {
      "text/html": [
       "<div>\n",
       "<style scoped>\n",
       "    .dataframe tbody tr th:only-of-type {\n",
       "        vertical-align: middle;\n",
       "    }\n",
       "\n",
       "    .dataframe tbody tr th {\n",
       "        vertical-align: top;\n",
       "    }\n",
       "\n",
       "    .dataframe thead th {\n",
       "        text-align: right;\n",
       "    }\n",
       "</style>\n",
       "<table border=\"1\" class=\"dataframe\">\n",
       "  <thead>\n",
       "    <tr style=\"text-align: right;\">\n",
       "      <th></th>\n",
       "      <th>sample_item_index</th>\n",
       "      <th>item_material</th>\n",
       "      <th>is_frozen</th>\n",
       "      <th>grill_type</th>\n",
       "      <th>thumbs_up_score</th>\n",
       "      <th>guess_grill_correct</th>\n",
       "    </tr>\n",
       "  </thead>\n",
       "  <tbody>\n",
       "    <tr>\n",
       "      <th>0</th>\n",
       "      <td>1</td>\n",
       "      <td>Veggie Patty</td>\n",
       "      <td>False</td>\n",
       "      <td>Propane</td>\n",
       "      <td>0.0</td>\n",
       "      <td>True</td>\n",
       "    </tr>\n",
       "    <tr>\n",
       "      <th>1</th>\n",
       "      <td>1</td>\n",
       "      <td>Hotdog</td>\n",
       "      <td>False</td>\n",
       "      <td>Propane</td>\n",
       "      <td>0.4</td>\n",
       "      <td>True</td>\n",
       "    </tr>\n",
       "    <tr>\n",
       "      <th>2</th>\n",
       "      <td>2</td>\n",
       "      <td>Veggie Patty</td>\n",
       "      <td>True</td>\n",
       "      <td>Propane</td>\n",
       "      <td>0.9</td>\n",
       "      <td>True</td>\n",
       "    </tr>\n",
       "    <tr>\n",
       "      <th>3</th>\n",
       "      <td>3</td>\n",
       "      <td>Veggie Patty</td>\n",
       "      <td>False</td>\n",
       "      <td>Propane</td>\n",
       "      <td>0.8</td>\n",
       "      <td>True</td>\n",
       "    </tr>\n",
       "    <tr>\n",
       "      <th>4</th>\n",
       "      <td>4</td>\n",
       "      <td>Veggie Patty</td>\n",
       "      <td>True</td>\n",
       "      <td>Propane</td>\n",
       "      <td>0.8</td>\n",
       "      <td>True</td>\n",
       "    </tr>\n",
       "  </tbody>\n",
       "</table>\n",
       "</div>"
      ],
      "text/plain": [
       "   sample_item_index item_material  is_frozen grill_type  thumbs_up_score  \\\n",
       "0                  1  Veggie Patty      False    Propane              0.0   \n",
       "1                  1        Hotdog      False    Propane              0.4   \n",
       "2                  2  Veggie Patty       True    Propane              0.9   \n",
       "3                  3  Veggie Patty      False    Propane              0.8   \n",
       "4                  4  Veggie Patty       True    Propane              0.8   \n",
       "\n",
       "   guess_grill_correct  \n",
       "0                 True  \n",
       "1                 True  \n",
       "2                 True  \n",
       "3                 True  \n",
       "4                 True  "
      ]
     },
     "execution_count": 8,
     "metadata": {},
     "output_type": "execute_result"
    }
   ],
   "source": [
    "# Examining SheetC\n",
    "\n",
    "SheetC.head()"
   ]
  },
  {
   "cell_type": "code",
   "execution_count": 9,
   "metadata": {},
   "outputs": [
    {
     "data": {
      "text/html": [
       "<div>\n",
       "<style scoped>\n",
       "    .dataframe tbody tr th:only-of-type {\n",
       "        vertical-align: middle;\n",
       "    }\n",
       "\n",
       "    .dataframe tbody tr th {\n",
       "        vertical-align: top;\n",
       "    }\n",
       "\n",
       "    .dataframe thead th {\n",
       "        text-align: right;\n",
       "    }\n",
       "</style>\n",
       "<table border=\"1\" class=\"dataframe\">\n",
       "  <thead>\n",
       "    <tr style=\"text-align: right;\">\n",
       "      <th></th>\n",
       "      <th>count</th>\n",
       "      <th>mean</th>\n",
       "      <th>std</th>\n",
       "      <th>min</th>\n",
       "      <th>25%</th>\n",
       "      <th>50%</th>\n",
       "      <th>75%</th>\n",
       "      <th>max</th>\n",
       "    </tr>\n",
       "  </thead>\n",
       "  <tbody>\n",
       "    <tr>\n",
       "      <th>sample_item_index</th>\n",
       "      <td>720.0</td>\n",
       "      <td>15.500000</td>\n",
       "      <td>8.661458</td>\n",
       "      <td>1.0</td>\n",
       "      <td>8.0</td>\n",
       "      <td>15.50</td>\n",
       "      <td>23.0</td>\n",
       "      <td>30.0</td>\n",
       "    </tr>\n",
       "    <tr>\n",
       "      <th>thumbs_up_score</th>\n",
       "      <td>720.0</td>\n",
       "      <td>2.034722</td>\n",
       "      <td>2.398427</td>\n",
       "      <td>0.0</td>\n",
       "      <td>0.2</td>\n",
       "      <td>0.55</td>\n",
       "      <td>5.1</td>\n",
       "      <td>6.3</td>\n",
       "    </tr>\n",
       "  </tbody>\n",
       "</table>\n",
       "</div>"
      ],
      "text/plain": [
       "                   count       mean       std  min  25%    50%   75%   max\n",
       "sample_item_index  720.0  15.500000  8.661458  1.0  8.0  15.50  23.0  30.0\n",
       "thumbs_up_score    720.0   2.034722  2.398427  0.0  0.2   0.55   5.1   6.3"
      ]
     },
     "execution_count": 9,
     "metadata": {},
     "output_type": "execute_result"
    }
   ],
   "source": [
    "SheetC.describe().T"
   ]
  },
  {
   "cell_type": "code",
   "execution_count": 10,
   "metadata": {},
   "outputs": [
    {
     "name": "stdout",
     "output_type": "stream",
     "text": [
      "<class 'pandas.core.frame.DataFrame'>\n",
      "RangeIndex: 720 entries, 0 to 719\n",
      "Data columns (total 6 columns):\n",
      " #   Column               Non-Null Count  Dtype  \n",
      "---  ------               --------------  -----  \n",
      " 0   sample_item_index    720 non-null    int64  \n",
      " 1   item_material        720 non-null    object \n",
      " 2   is_frozen            720 non-null    bool   \n",
      " 3   grill_type           720 non-null    object \n",
      " 4   thumbs_up_score      720 non-null    float64\n",
      " 5   guess_grill_correct  720 non-null    bool   \n",
      "dtypes: bool(2), float64(1), int64(1), object(2)\n",
      "memory usage: 24.0+ KB\n"
     ]
    }
   ],
   "source": [
    "SheetC.info()"
   ]
  },
  {
   "cell_type": "markdown",
   "metadata": {},
   "source": [
    "### Question 1: Name each sheet/table so they are meaningful standalone.\n",
    "\n",
    "### Answer:  Please see the below information for your reference."
   ]
  },
  {
   "cell_type": "code",
   "execution_count": 11,
   "metadata": {},
   "outputs": [
    {
     "data": {
      "text/html": [
       "<div>\n",
       "<style scoped>\n",
       "    .dataframe tbody tr th:only-of-type {\n",
       "        vertical-align: middle;\n",
       "    }\n",
       "\n",
       "    .dataframe tbody tr th {\n",
       "        vertical-align: top;\n",
       "    }\n",
       "\n",
       "    .dataframe thead th {\n",
       "        text-align: right;\n",
       "    }\n",
       "</style>\n",
       "<table border=\"1\" class=\"dataframe\">\n",
       "  <thead>\n",
       "    <tr style=\"text-align: right;\">\n",
       "      <th></th>\n",
       "      <th>Grill Type</th>\n",
       "      <th>Pre-Heat Time (In Seconds)</th>\n",
       "      <th>Fuel Cost Per Meal</th>\n",
       "      <th>Market Share</th>\n",
       "      <th>Ease Of Use</th>\n",
       "      <th>Life Span (In Years)</th>\n",
       "      <th>Initial Investment</th>\n",
       "    </tr>\n",
       "  </thead>\n",
       "  <tbody>\n",
       "    <tr>\n",
       "      <th>0</th>\n",
       "      <td>Charcoal</td>\n",
       "      <td>1200</td>\n",
       "      <td>2.00</td>\n",
       "      <td>0.44</td>\n",
       "      <td>-1</td>\n",
       "      <td>3</td>\n",
       "      <td>91</td>\n",
       "    </tr>\n",
       "    <tr>\n",
       "      <th>1</th>\n",
       "      <td>Propane</td>\n",
       "      <td>480</td>\n",
       "      <td>1.55</td>\n",
       "      <td>0.64</td>\n",
       "      <td>2</td>\n",
       "      <td>3</td>\n",
       "      <td>139</td>\n",
       "    </tr>\n",
       "  </tbody>\n",
       "</table>\n",
       "</div>"
      ],
      "text/plain": [
       "  Grill Type  Pre-Heat Time (In Seconds)  Fuel Cost Per Meal  Market Share  \\\n",
       "0   Charcoal                        1200                2.00          0.44   \n",
       "1    Propane                         480                1.55          0.64   \n",
       "\n",
       "   Ease Of Use  Life Span (In Years)  Initial Investment  \n",
       "0           -1                     3                  91  \n",
       "1            2                     3                 139  "
      ]
     },
     "execution_count": 11,
     "metadata": {},
     "output_type": "execute_result"
    }
   ],
   "source": [
    "# Rename header for SheetA and create a dataframe\n",
    "\n",
    "SheetA_header=['Grill Type', 'Pre-Heat Time (In Seconds)', 'Fuel Cost Per Meal', 'Market Share', 'Ease Of Use', 'Life Span (In Years)', 'Initial Investment']\n",
    "SheetA = pd.read_csv(\"C:\\\\Users\\\\Leo\\\\Desktop\\\\Lodestone\\\\SheetA.csv\", header=None, skiprows=1, names=SheetA_header)\n",
    "SheetA = pd.DataFrame(SheetA)\n",
    "SheetA\n",
    "\n",
    "# SheetA has 1 categorical variable and 6 numerical variables"
   ]
  },
  {
   "cell_type": "code",
   "execution_count": 12,
   "metadata": {},
   "outputs": [
    {
     "name": "stdout",
     "output_type": "stream",
     "text": [
      "SheetA has no NaN value\n"
     ]
    }
   ],
   "source": [
    "# Check for NaN values\n",
    "\n",
    "valA=SheetA.isnull().values.any()\n",
    "\n",
    "if valA==True:\n",
    "    print(\"Missing values present : \", SheetA.isnull().values.sum())\n",
    "    SheetA=SheetA.dropna()\n",
    "else:\n",
    "    print(\"SheetA has no NaN value\")"
   ]
  },
  {
   "cell_type": "code",
   "execution_count": 13,
   "metadata": {},
   "outputs": [
    {
     "data": {
      "text/plain": [
       "2"
      ]
     },
     "execution_count": 13,
     "metadata": {},
     "output_type": "execute_result"
    }
   ],
   "source": [
    "len(SheetA.index)\n",
    "\n",
    "# SheetA has a total of 2 observations "
   ]
  },
  {
   "cell_type": "code",
   "execution_count": 14,
   "metadata": {},
   "outputs": [
    {
     "name": "stdout",
     "output_type": "stream",
     "text": [
      "<class 'pandas.core.frame.DataFrame'>\n",
      "RangeIndex: 2 entries, 0 to 1\n",
      "Data columns (total 7 columns):\n",
      " #   Column                      Non-Null Count  Dtype  \n",
      "---  ------                      --------------  -----  \n",
      " 0   Grill Type                  2 non-null      object \n",
      " 1   Pre-Heat Time (In Seconds)  2 non-null      int64  \n",
      " 2   Fuel Cost Per Meal          2 non-null      float64\n",
      " 3   Market Share                2 non-null      float64\n",
      " 4   Ease Of Use                 2 non-null      int64  \n",
      " 5   Life Span (In Years)        2 non-null      int64  \n",
      " 6   Initial Investment          2 non-null      int64  \n",
      "dtypes: float64(2), int64(4), object(1)\n",
      "memory usage: 240.0+ bytes\n"
     ]
    }
   ],
   "source": [
    "# SheetA details\n",
    "\n",
    "SheetA.info()"
   ]
  },
  {
   "cell_type": "code",
   "execution_count": 15,
   "metadata": {},
   "outputs": [
    {
     "data": {
      "text/html": [
       "<div>\n",
       "<style scoped>\n",
       "    .dataframe tbody tr th:only-of-type {\n",
       "        vertical-align: middle;\n",
       "    }\n",
       "\n",
       "    .dataframe tbody tr th {\n",
       "        vertical-align: top;\n",
       "    }\n",
       "\n",
       "    .dataframe thead th {\n",
       "        text-align: right;\n",
       "    }\n",
       "</style>\n",
       "<table border=\"1\" class=\"dataframe\">\n",
       "  <thead>\n",
       "    <tr style=\"text-align: right;\">\n",
       "      <th></th>\n",
       "      <th>Material</th>\n",
       "      <th>Grill Type</th>\n",
       "      <th>Satisfaction Level</th>\n",
       "      <th>Fuel Cost</th>\n",
       "    </tr>\n",
       "  </thead>\n",
       "  <tbody>\n",
       "    <tr>\n",
       "      <th>0</th>\n",
       "      <td>Ground Beef Patty</td>\n",
       "      <td>Charcoal</td>\n",
       "      <td>-0.9</td>\n",
       "      <td>400.500</td>\n",
       "    </tr>\n",
       "    <tr>\n",
       "      <th>1</th>\n",
       "      <td>Ground Beef Patty</td>\n",
       "      <td>Charcoal</td>\n",
       "      <td>-1.3</td>\n",
       "      <td>399.600</td>\n",
       "    </tr>\n",
       "    <tr>\n",
       "      <th>2</th>\n",
       "      <td>Ground Beef Patty</td>\n",
       "      <td>Charcoal</td>\n",
       "      <td>-2.5</td>\n",
       "      <td>389.730</td>\n",
       "    </tr>\n",
       "    <tr>\n",
       "      <th>3</th>\n",
       "      <td>Ground Beef Patty</td>\n",
       "      <td>Charcoal</td>\n",
       "      <td>-1.7</td>\n",
       "      <td>402.399</td>\n",
       "    </tr>\n",
       "    <tr>\n",
       "      <th>4</th>\n",
       "      <td>Hotdog</td>\n",
       "      <td>Charcoal</td>\n",
       "      <td>-1.3</td>\n",
       "      <td>372.445</td>\n",
       "    </tr>\n",
       "    <tr>\n",
       "      <th>5</th>\n",
       "      <td>Hotdog</td>\n",
       "      <td>Charcoal</td>\n",
       "      <td>-1.9</td>\n",
       "      <td>364.000</td>\n",
       "    </tr>\n",
       "    <tr>\n",
       "      <th>6</th>\n",
       "      <td>Hotdog</td>\n",
       "      <td>Charcoal</td>\n",
       "      <td>-0.5</td>\n",
       "      <td>373.725</td>\n",
       "    </tr>\n",
       "    <tr>\n",
       "      <th>7</th>\n",
       "      <td>Hotdog</td>\n",
       "      <td>Charcoal</td>\n",
       "      <td>-2.4</td>\n",
       "      <td>366.710</td>\n",
       "    </tr>\n",
       "    <tr>\n",
       "      <th>8</th>\n",
       "      <td>Veggie Patty</td>\n",
       "      <td>Charcoal</td>\n",
       "      <td>-1.2</td>\n",
       "      <td>378.447</td>\n",
       "    </tr>\n",
       "    <tr>\n",
       "      <th>9</th>\n",
       "      <td>Veggie Patty</td>\n",
       "      <td>Charcoal</td>\n",
       "      <td>-1.3</td>\n",
       "      <td>382.218</td>\n",
       "    </tr>\n",
       "    <tr>\n",
       "      <th>10</th>\n",
       "      <td>Veggie Patty</td>\n",
       "      <td>Charcoal</td>\n",
       "      <td>-2.5</td>\n",
       "      <td>370.965</td>\n",
       "    </tr>\n",
       "    <tr>\n",
       "      <th>11</th>\n",
       "      <td>Veggie Patty</td>\n",
       "      <td>Charcoal</td>\n",
       "      <td>-0.3</td>\n",
       "      <td>369.942</td>\n",
       "    </tr>\n",
       "    <tr>\n",
       "      <th>12</th>\n",
       "      <td>Ground Beef Patty</td>\n",
       "      <td>Propane</td>\n",
       "      <td>1.6</td>\n",
       "      <td>168.975</td>\n",
       "    </tr>\n",
       "    <tr>\n",
       "      <th>13</th>\n",
       "      <td>Ground Beef Patty</td>\n",
       "      <td>Propane</td>\n",
       "      <td>2.4</td>\n",
       "      <td>170.850</td>\n",
       "    </tr>\n",
       "    <tr>\n",
       "      <th>14</th>\n",
       "      <td>Ground Beef Patty</td>\n",
       "      <td>Propane</td>\n",
       "      <td>2.6</td>\n",
       "      <td>175.200</td>\n",
       "    </tr>\n",
       "    <tr>\n",
       "      <th>15</th>\n",
       "      <td>Ground Beef Patty</td>\n",
       "      <td>Propane</td>\n",
       "      <td>2.0</td>\n",
       "      <td>171.750</td>\n",
       "    </tr>\n",
       "    <tr>\n",
       "      <th>16</th>\n",
       "      <td>Hotdog</td>\n",
       "      <td>Propane</td>\n",
       "      <td>1.8</td>\n",
       "      <td>154.875</td>\n",
       "    </tr>\n",
       "    <tr>\n",
       "      <th>17</th>\n",
       "      <td>Hotdog</td>\n",
       "      <td>Propane</td>\n",
       "      <td>1.2</td>\n",
       "      <td>156.550</td>\n",
       "    </tr>\n",
       "    <tr>\n",
       "      <th>18</th>\n",
       "      <td>Hotdog</td>\n",
       "      <td>Propane</td>\n",
       "      <td>2.0</td>\n",
       "      <td>140.875</td>\n",
       "    </tr>\n",
       "    <tr>\n",
       "      <th>19</th>\n",
       "      <td>Hotdog</td>\n",
       "      <td>Propane</td>\n",
       "      <td>1.2</td>\n",
       "      <td>153.650</td>\n",
       "    </tr>\n",
       "    <tr>\n",
       "      <th>20</th>\n",
       "      <td>Veggie Patty</td>\n",
       "      <td>Propane</td>\n",
       "      <td>2.0</td>\n",
       "      <td>151.200</td>\n",
       "    </tr>\n",
       "    <tr>\n",
       "      <th>21</th>\n",
       "      <td>Veggie Patty</td>\n",
       "      <td>Propane</td>\n",
       "      <td>1.2</td>\n",
       "      <td>146.550</td>\n",
       "    </tr>\n",
       "    <tr>\n",
       "      <th>22</th>\n",
       "      <td>Veggie Patty</td>\n",
       "      <td>Propane</td>\n",
       "      <td>0.2</td>\n",
       "      <td>158.775</td>\n",
       "    </tr>\n",
       "    <tr>\n",
       "      <th>23</th>\n",
       "      <td>Veggie Patty</td>\n",
       "      <td>Propane</td>\n",
       "      <td>2.8</td>\n",
       "      <td>148.050</td>\n",
       "    </tr>\n",
       "  </tbody>\n",
       "</table>\n",
       "</div>"
      ],
      "text/plain": [
       "             Material Grill Type  Satisfaction Level  Fuel Cost\n",
       "0   Ground Beef Patty   Charcoal                -0.9    400.500\n",
       "1   Ground Beef Patty   Charcoal                -1.3    399.600\n",
       "2   Ground Beef Patty   Charcoal                -2.5    389.730\n",
       "3   Ground Beef Patty   Charcoal                -1.7    402.399\n",
       "4              Hotdog   Charcoal                -1.3    372.445\n",
       "5              Hotdog   Charcoal                -1.9    364.000\n",
       "6              Hotdog   Charcoal                -0.5    373.725\n",
       "7              Hotdog   Charcoal                -2.4    366.710\n",
       "8        Veggie Patty   Charcoal                -1.2    378.447\n",
       "9        Veggie Patty   Charcoal                -1.3    382.218\n",
       "10       Veggie Patty   Charcoal                -2.5    370.965\n",
       "11       Veggie Patty   Charcoal                -0.3    369.942\n",
       "12  Ground Beef Patty    Propane                 1.6    168.975\n",
       "13  Ground Beef Patty    Propane                 2.4    170.850\n",
       "14  Ground Beef Patty    Propane                 2.6    175.200\n",
       "15  Ground Beef Patty    Propane                 2.0    171.750\n",
       "16             Hotdog    Propane                 1.8    154.875\n",
       "17             Hotdog    Propane                 1.2    156.550\n",
       "18             Hotdog    Propane                 2.0    140.875\n",
       "19             Hotdog    Propane                 1.2    153.650\n",
       "20       Veggie Patty    Propane                 2.0    151.200\n",
       "21       Veggie Patty    Propane                 1.2    146.550\n",
       "22       Veggie Patty    Propane                 0.2    158.775\n",
       "23       Veggie Patty    Propane                 2.8    148.050"
      ]
     },
     "execution_count": 15,
     "metadata": {},
     "output_type": "execute_result"
    }
   ],
   "source": [
    "# Rename header for SheetB and create a dataframe\n",
    "\n",
    "SheetB_header=['Material', 'Device ID', 'Grill Type', 'Satisfaction Level', 'Fuel Cost']\n",
    "SheetB = pd.read_csv(\"C:\\\\Users\\\\Leo\\\\Desktop\\\\Lodestone\\\\SheetB.csv\", header=None, skiprows=1, names=SheetB_header)\n",
    "SheetB = pd.DataFrame(SheetB)\n",
    "del SheetB['Device ID']\n",
    "SheetB\n",
    "\n",
    "# Delete \"Device ID\" column due to it won't contribute to the analysis. SheetB now has 2 categorical variables and 2 numerical variables. "
   ]
  },
  {
   "cell_type": "code",
   "execution_count": 16,
   "metadata": {},
   "outputs": [
    {
     "name": "stdout",
     "output_type": "stream",
     "text": [
      "SheetB has no NaN value\n"
     ]
    }
   ],
   "source": [
    "# Check for NaN values\n",
    "\n",
    "valB=SheetB.isnull().values.any()\n",
    "\n",
    "if valB==True:\n",
    "    print(\"Missing values present : \", SheetB.isnull().values.sum())\n",
    "    SheetB=SheetB.dropna()\n",
    "else:\n",
    "    print(\"SheetB has no NaN value\")"
   ]
  },
  {
   "cell_type": "code",
   "execution_count": 17,
   "metadata": {},
   "outputs": [
    {
     "data": {
      "text/plain": [
       "24"
      ]
     },
     "execution_count": 17,
     "metadata": {},
     "output_type": "execute_result"
    }
   ],
   "source": [
    "len(SheetB.index)\n",
    "\n",
    "# SheetB has a total of 24 observations "
   ]
  },
  {
   "cell_type": "code",
   "execution_count": 18,
   "metadata": {},
   "outputs": [
    {
     "name": "stdout",
     "output_type": "stream",
     "text": [
      "<class 'pandas.core.frame.DataFrame'>\n",
      "RangeIndex: 24 entries, 0 to 23\n",
      "Data columns (total 4 columns):\n",
      " #   Column              Non-Null Count  Dtype  \n",
      "---  ------              --------------  -----  \n",
      " 0   Material            24 non-null     object \n",
      " 1   Grill Type          24 non-null     object \n",
      " 2   Satisfaction Level  24 non-null     float64\n",
      " 3   Fuel Cost           24 non-null     float64\n",
      "dtypes: float64(2), object(2)\n",
      "memory usage: 896.0+ bytes\n"
     ]
    }
   ],
   "source": [
    "# SheetB details\n",
    "\n",
    "SheetB.info()"
   ]
  },
  {
   "cell_type": "code",
   "execution_count": 19,
   "metadata": {},
   "outputs": [
    {
     "data": {
      "text/plain": [
       "Veggie Patty         8\n",
       "Hotdog               8\n",
       "Ground Beef Patty    8\n",
       "Name: Material, dtype: int64"
      ]
     },
     "execution_count": 19,
     "metadata": {},
     "output_type": "execute_result"
    }
   ],
   "source": [
    "# Count the amount of each material in SheetB\n",
    "\n",
    "SheetB.Material.value_counts()"
   ]
  },
  {
   "cell_type": "code",
   "execution_count": 20,
   "metadata": {},
   "outputs": [
    {
     "data": {
      "text/html": [
       "<div>\n",
       "<style scoped>\n",
       "    .dataframe tbody tr th:only-of-type {\n",
       "        vertical-align: middle;\n",
       "    }\n",
       "\n",
       "    .dataframe tbody tr th {\n",
       "        vertical-align: top;\n",
       "    }\n",
       "\n",
       "    .dataframe thead th {\n",
       "        text-align: right;\n",
       "    }\n",
       "</style>\n",
       "<table border=\"1\" class=\"dataframe\">\n",
       "  <thead>\n",
       "    <tr style=\"text-align: right;\">\n",
       "      <th></th>\n",
       "      <th>Material</th>\n",
       "      <th>Frozen</th>\n",
       "      <th>Grill Type</th>\n",
       "      <th>Thumbs Up Score</th>\n",
       "      <th>Guess Grill Type Correct?</th>\n",
       "    </tr>\n",
       "  </thead>\n",
       "  <tbody>\n",
       "    <tr>\n",
       "      <th>0</th>\n",
       "      <td>Veggie Patty</td>\n",
       "      <td>False</td>\n",
       "      <td>Propane</td>\n",
       "      <td>0.0</td>\n",
       "      <td>True</td>\n",
       "    </tr>\n",
       "    <tr>\n",
       "      <th>1</th>\n",
       "      <td>Hotdog</td>\n",
       "      <td>False</td>\n",
       "      <td>Propane</td>\n",
       "      <td>0.4</td>\n",
       "      <td>True</td>\n",
       "    </tr>\n",
       "    <tr>\n",
       "      <th>2</th>\n",
       "      <td>Veggie Patty</td>\n",
       "      <td>True</td>\n",
       "      <td>Propane</td>\n",
       "      <td>0.9</td>\n",
       "      <td>True</td>\n",
       "    </tr>\n",
       "    <tr>\n",
       "      <th>3</th>\n",
       "      <td>Veggie Patty</td>\n",
       "      <td>False</td>\n",
       "      <td>Propane</td>\n",
       "      <td>0.8</td>\n",
       "      <td>True</td>\n",
       "    </tr>\n",
       "    <tr>\n",
       "      <th>4</th>\n",
       "      <td>Veggie Patty</td>\n",
       "      <td>True</td>\n",
       "      <td>Propane</td>\n",
       "      <td>0.8</td>\n",
       "      <td>True</td>\n",
       "    </tr>\n",
       "    <tr>\n",
       "      <th>...</th>\n",
       "      <td>...</td>\n",
       "      <td>...</td>\n",
       "      <td>...</td>\n",
       "      <td>...</td>\n",
       "      <td>...</td>\n",
       "    </tr>\n",
       "    <tr>\n",
       "      <th>715</th>\n",
       "      <td>Ground Beef Patty</td>\n",
       "      <td>False</td>\n",
       "      <td>Charcoal</td>\n",
       "      <td>0.5</td>\n",
       "      <td>True</td>\n",
       "    </tr>\n",
       "    <tr>\n",
       "      <th>716</th>\n",
       "      <td>Ground Beef Patty</td>\n",
       "      <td>True</td>\n",
       "      <td>Charcoal</td>\n",
       "      <td>0.4</td>\n",
       "      <td>True</td>\n",
       "    </tr>\n",
       "    <tr>\n",
       "      <th>717</th>\n",
       "      <td>Ground Beef Patty</td>\n",
       "      <td>False</td>\n",
       "      <td>Charcoal</td>\n",
       "      <td>0.2</td>\n",
       "      <td>True</td>\n",
       "    </tr>\n",
       "    <tr>\n",
       "      <th>718</th>\n",
       "      <td>Ground Beef Patty</td>\n",
       "      <td>True</td>\n",
       "      <td>Charcoal</td>\n",
       "      <td>0.1</td>\n",
       "      <td>True</td>\n",
       "    </tr>\n",
       "    <tr>\n",
       "      <th>719</th>\n",
       "      <td>Ground Beef Patty</td>\n",
       "      <td>False</td>\n",
       "      <td>Charcoal</td>\n",
       "      <td>0.3</td>\n",
       "      <td>True</td>\n",
       "    </tr>\n",
       "  </tbody>\n",
       "</table>\n",
       "<p>720 rows × 5 columns</p>\n",
       "</div>"
      ],
      "text/plain": [
       "              Material  Frozen Grill Type  Thumbs Up Score  \\\n",
       "0         Veggie Patty   False    Propane              0.0   \n",
       "1               Hotdog   False    Propane              0.4   \n",
       "2         Veggie Patty    True    Propane              0.9   \n",
       "3         Veggie Patty   False    Propane              0.8   \n",
       "4         Veggie Patty    True    Propane              0.8   \n",
       "..                 ...     ...        ...              ...   \n",
       "715  Ground Beef Patty   False   Charcoal              0.5   \n",
       "716  Ground Beef Patty    True   Charcoal              0.4   \n",
       "717  Ground Beef Patty   False   Charcoal              0.2   \n",
       "718  Ground Beef Patty    True   Charcoal              0.1   \n",
       "719  Ground Beef Patty   False   Charcoal              0.3   \n",
       "\n",
       "     Guess Grill Type Correct?  \n",
       "0                         True  \n",
       "1                         True  \n",
       "2                         True  \n",
       "3                         True  \n",
       "4                         True  \n",
       "..                         ...  \n",
       "715                       True  \n",
       "716                       True  \n",
       "717                       True  \n",
       "718                       True  \n",
       "719                       True  \n",
       "\n",
       "[720 rows x 5 columns]"
      ]
     },
     "execution_count": 20,
     "metadata": {},
     "output_type": "execute_result"
    }
   ],
   "source": [
    "# Rename header for SheetC and create a dataframe\n",
    "\n",
    "SheetC_header=['Sample Index','Material', 'Frozen', 'Grill Type', 'Thumbs Up Score', 'Guess Grill Type Correct?']\n",
    "SheetC = pd.read_csv(\"C:\\\\Users\\\\Leo\\\\Desktop\\\\Lodestone\\\\SheetC.csv\", header=None, skiprows=1, names=SheetC_header)\n",
    "SheetC = pd.DataFrame(SheetC)\n",
    "del SheetC['Sample Index']\n",
    "SheetC\n",
    "\n",
    "# Delete \"Sample Index\" column due to it won't contribute to the analysis. SheetC now has 4 categorical variables and 1 numerical variable"
   ]
  },
  {
   "cell_type": "code",
   "execution_count": 21,
   "metadata": {},
   "outputs": [
    {
     "name": "stdout",
     "output_type": "stream",
     "text": [
      "SheetC has no NaN value\n"
     ]
    }
   ],
   "source": [
    "# Check for NaN values\n",
    "\n",
    "valC=SheetC.isnull().values.any()\n",
    "\n",
    "if valC==True:\n",
    "    print(\"Missing values present : \", SheetC.isnull().values.sum())\n",
    "    SheetC=SheetC.dropna()\n",
    "else:\n",
    "    print(\"SheetC has no NaN value\")"
   ]
  },
  {
   "cell_type": "code",
   "execution_count": 22,
   "metadata": {},
   "outputs": [
    {
     "data": {
      "text/plain": [
       "720"
      ]
     },
     "execution_count": 22,
     "metadata": {},
     "output_type": "execute_result"
    }
   ],
   "source": [
    "len(SheetC.index)\n",
    "\n",
    "# SheetC has a total of 720 observations "
   ]
  },
  {
   "cell_type": "code",
   "execution_count": 23,
   "metadata": {},
   "outputs": [
    {
     "name": "stdout",
     "output_type": "stream",
     "text": [
      "<class 'pandas.core.frame.DataFrame'>\n",
      "RangeIndex: 720 entries, 0 to 719\n",
      "Data columns (total 5 columns):\n",
      " #   Column                     Non-Null Count  Dtype  \n",
      "---  ------                     --------------  -----  \n",
      " 0   Material                   720 non-null    object \n",
      " 1   Frozen                     720 non-null    bool   \n",
      " 2   Grill Type                 720 non-null    object \n",
      " 3   Thumbs Up Score            720 non-null    float64\n",
      " 4   Guess Grill Type Correct?  720 non-null    bool   \n",
      "dtypes: bool(2), float64(1), object(2)\n",
      "memory usage: 18.4+ KB\n"
     ]
    }
   ],
   "source": [
    "# SheetC details\n",
    "\n",
    "SheetC.info()"
   ]
  },
  {
   "cell_type": "code",
   "execution_count": 24,
   "metadata": {},
   "outputs": [
    {
     "data": {
      "text/plain": [
       "Hotdog               240\n",
       "Veggie Patty         240\n",
       "Ground Beef Patty    240\n",
       "Name: Material, dtype: int64"
      ]
     },
     "execution_count": 24,
     "metadata": {},
     "output_type": "execute_result"
    }
   ],
   "source": [
    "# Count the amount of each material in SheetC\n",
    "\n",
    "SheetC.Material.value_counts()"
   ]
  },
  {
   "cell_type": "markdown",
   "metadata": {},
   "source": [
    "### Question 2: Which grill type is more fuel efficient based on sheet A?\n",
    "\n",
    "### Answer: As per the bar plot, Charcoal costs more fuel per meal than propane, thus less efficient. Please see the below information for your reference."
   ]
  },
  {
   "cell_type": "code",
   "execution_count": 25,
   "metadata": {},
   "outputs": [
    {
     "data": {
      "text/plain": [
       "Text(0, 0.5, 'Fuel Cost Per Meal')"
      ]
     },
     "execution_count": 25,
     "metadata": {},
     "output_type": "execute_result"
    },
    {
     "data": {
      "image/png": "[encoded data removed]",
      "text/plain": [
       "<Figure size 432x288 with 1 Axes>"
      ]
     },
     "metadata": {},
     "output_type": "display_data"
    }
   ],
   "source": [
    "# Bar Plot (matplotlib package)\n",
    "\n",
    "plt.bar(SheetA['Grill Type'], SheetA['Fuel Cost Per Meal'], color=['red', 'blue'], align='center')\n",
    "plt.title('Fuel Efficiency Comparison')\n",
    "plt.xlabel('Grill Type')\n",
    "plt.ylabel('Fuel Cost Per Meal')"
   ]
  },
  {
   "cell_type": "code",
   "execution_count": 26,
   "metadata": {},
   "outputs": [
    {
     "data": {
      "text/plain": [
       "Text(0.5, 1.0, 'Fuel Efficiency Comparison')"
      ]
     },
     "execution_count": 26,
     "metadata": {},
     "output_type": "execute_result"
    },
    {
     "data": {
      "image/png": "[encoded data removed]",
      "text/plain": [
       "<Figure size 432x288 with 1 Axes>"
      ]
     },
     "metadata": {},
     "output_type": "display_data"
    }
   ],
   "source": [
    "# Bar Plot (seaborn package)\n",
    "\n",
    "sns.barplot(x='Grill Type', y='Fuel Cost Per Meal', data=SheetA, palette=('Set1')).set_title('Fuel Efficiency Comparison')"
   ]
  },
  {
   "cell_type": "markdown",
   "metadata": {},
   "source": [
    "### Question 3: Which grill type has more market share?\n",
    "\n",
    "### Answer: Propane has a higher market share than charcoal by 20%. Please see the below information for your reference."
   ]
  },
  {
   "cell_type": "code",
   "execution_count": 27,
   "metadata": {},
   "outputs": [
    {
     "data": {
      "text/plain": [
       "Text(0, 0.5, 'Market Share')"
      ]
     },
     "execution_count": 27,
     "metadata": {},
     "output_type": "execute_result"
    },
    {
     "data": {
      "image/png": "[encoded data removed]",
      "text/plain": [
       "<Figure size 432x288 with 1 Axes>"
      ]
     },
     "metadata": {},
     "output_type": "display_data"
    }
   ],
   "source": [
    "# Bar Plot (matplotlib package)\n",
    "\n",
    "plt.bar(SheetA['Grill Type'], SheetA['Market Share'], color=['red', 'blue'], align='center')\n",
    "plt.title('Market Share Comparison')\n",
    "plt.xlabel('Grill Type')\n",
    "plt.ylabel('Market Share')"
   ]
  },
  {
   "cell_type": "code",
   "execution_count": 28,
   "metadata": {},
   "outputs": [
    {
     "data": {
      "text/plain": [
       "Text(0.5, 1.0, 'Market Share Comparison')"
      ]
     },
     "execution_count": 28,
     "metadata": {},
     "output_type": "execute_result"
    },
    {
     "data": {
      "image/png": "[encoded data removed]",
      "text/plain": [
       "<Figure size 432x288 with 1 Axes>"
      ]
     },
     "metadata": {},
     "output_type": "display_data"
    }
   ],
   "source": [
    "# Bar Plot (seaborn package)\n",
    "\n",
    "sns.barplot(x='Grill Type', y='Market Share', data=SheetA, palette=('Set1')).set_title('Market Share Comparison')"
   ]
  },
  {
   "cell_type": "markdown",
   "metadata": {},
   "source": [
    "### Question 4: Based on the cookoff data which grill type cost more fuel on a long run?\n",
    "\n",
    "### Answer: To get the answer, we need to use the SheetB data and take the total fuel cost used by the grill type. By taking the sum of fuel consumption per grill type, we can see that charcoal has much higher fuel consumption. Please see the below information for your reference."
   ]
  },
  {
   "cell_type": "code",
   "execution_count": 29,
   "metadata": {},
   "outputs": [
    {
     "data": {
      "text/plain": [
       "Grill Type\n",
       "Charcoal    4570.681\n",
       "Propane     1897.300\n",
       "Name: Fuel Cost, dtype: float64"
      ]
     },
     "execution_count": 29,
     "metadata": {},
     "output_type": "execute_result"
    }
   ],
   "source": [
    "# Use groupby to get sum\n",
    "\n",
    "SheetB.groupby('Grill Type')['Fuel Cost'].sum()"
   ]
  },
  {
   "cell_type": "markdown",
   "metadata": {},
   "source": [
    "### Question 5: Considering that the average American grill owner buys a new grill every three years, which grill type would cost more based on the fuel cost and initial investment?\n",
    "\n",
    "### Answer: By the plot, we can see that charcoal cost higher in the total cost than propane despite the low initial investment. Please see the below information for your reference."
   ]
  },
  {
   "cell_type": "code",
   "execution_count": 30,
   "metadata": {},
   "outputs": [],
   "source": [
    "# Considering 3 meals per day i.e. for 3 years 3*3*365 total meals in 3 years.\n",
    "\n",
    "total_meals = 3*3*365\n",
    "\n",
    "# Total cost = fuel cost*total_meals + initial investment\n",
    "\n",
    "SheetA['Total Cost'] = SheetA['Fuel Cost Per Meal']*total_meals + SheetA['Initial Investment']"
   ]
  },
  {
   "cell_type": "code",
   "execution_count": 31,
   "metadata": {},
   "outputs": [
    {
     "data": {
      "text/html": [
       "<div>\n",
       "<style scoped>\n",
       "    .dataframe tbody tr th:only-of-type {\n",
       "        vertical-align: middle;\n",
       "    }\n",
       "\n",
       "    .dataframe tbody tr th {\n",
       "        vertical-align: top;\n",
       "    }\n",
       "\n",
       "    .dataframe thead th {\n",
       "        text-align: right;\n",
       "    }\n",
       "</style>\n",
       "<table border=\"1\" class=\"dataframe\">\n",
       "  <thead>\n",
       "    <tr style=\"text-align: right;\">\n",
       "      <th></th>\n",
       "      <th>Grill Type</th>\n",
       "      <th>Pre-Heat Time (In Seconds)</th>\n",
       "      <th>Fuel Cost Per Meal</th>\n",
       "      <th>Market Share</th>\n",
       "      <th>Ease Of Use</th>\n",
       "      <th>Life Span (In Years)</th>\n",
       "      <th>Initial Investment</th>\n",
       "      <th>Total Cost</th>\n",
       "    </tr>\n",
       "  </thead>\n",
       "  <tbody>\n",
       "    <tr>\n",
       "      <th>0</th>\n",
       "      <td>Charcoal</td>\n",
       "      <td>1200</td>\n",
       "      <td>2.00</td>\n",
       "      <td>0.44</td>\n",
       "      <td>-1</td>\n",
       "      <td>3</td>\n",
       "      <td>91</td>\n",
       "      <td>6661.00</td>\n",
       "    </tr>\n",
       "    <tr>\n",
       "      <th>1</th>\n",
       "      <td>Propane</td>\n",
       "      <td>480</td>\n",
       "      <td>1.55</td>\n",
       "      <td>0.64</td>\n",
       "      <td>2</td>\n",
       "      <td>3</td>\n",
       "      <td>139</td>\n",
       "      <td>5230.75</td>\n",
       "    </tr>\n",
       "  </tbody>\n",
       "</table>\n",
       "</div>"
      ],
      "text/plain": [
       "  Grill Type  Pre-Heat Time (In Seconds)  Fuel Cost Per Meal  Market Share  \\\n",
       "0   Charcoal                        1200                2.00          0.44   \n",
       "1    Propane                         480                1.55          0.64   \n",
       "\n",
       "   Ease Of Use  Life Span (In Years)  Initial Investment  Total Cost  \n",
       "0           -1                     3                  91     6661.00  \n",
       "1            2                     3                 139     5230.75  "
      ]
     },
     "execution_count": 31,
     "metadata": {},
     "output_type": "execute_result"
    }
   ],
   "source": [
    "# Adding the new column \"Total Cost\" into the dataframe\n",
    "\n",
    "SheetA['Total Cost']\n",
    "SheetA"
   ]
  },
  {
   "cell_type": "code",
   "execution_count": 32,
   "metadata": {},
   "outputs": [
    {
     "data": {
      "text/plain": [
       "Text(0, 0.5, 'Total Cost')"
      ]
     },
     "execution_count": 32,
     "metadata": {},
     "output_type": "execute_result"
    },
    {
     "data": {
      "image/png": "[encoded data removed]",
      "text/plain": [
       "<Figure size 432x288 with 1 Axes>"
      ]
     },
     "metadata": {},
     "output_type": "display_data"
    }
   ],
   "source": [
    "# Bar Plot (matplotlib package)\n",
    "\n",
    "plt.bar(SheetA['Grill Type'], SheetA['Total Cost'], color=['red', 'blue'], align='center')\n",
    "plt.title('Total cost Comparison')\n",
    "plt.xlabel('Grill Type')\n",
    "plt.ylabel('Total Cost')"
   ]
  },
  {
   "cell_type": "code",
   "execution_count": 33,
   "metadata": {},
   "outputs": [
    {
     "data": {
      "text/plain": [
       "Text(0.5, 1.0, 'Total Cost Comparison')"
      ]
     },
     "execution_count": 33,
     "metadata": {},
     "output_type": "execute_result"
    },
    {
     "data": {
      "image/png": "[encoded data removed]",
      "text/plain": [
       "<Figure size 432x288 with 1 Axes>"
      ]
     },
     "metadata": {},
     "output_type": "display_data"
    }
   ],
   "source": [
    "# Bar Plot (seaborn package)\n",
    "\n",
    "sns.barplot(x='Grill Type', y='Total Cost', data=SheetA, palette=('Set1')).set_title('Total Cost Comparison')"
   ]
  },
  {
   "cell_type": "markdown",
   "metadata": {},
   "source": [
    "### Question 6: Which grill type is easier to use based on the user satisfaction score? Based on data, which grill is preferred? What factors might play a role?\n",
    "\n",
    "### Answer: Based on the table, average user satisfaction is higher in the case of propane rather than charcoal, this can be attributed to lower fuel consumption and easiness to use. Please see the below information for your reference."
   ]
  },
  {
   "cell_type": "code",
   "execution_count": 34,
   "metadata": {},
   "outputs": [
    {
     "data": {
      "text/plain": [
       "Grill Type\n",
       "Charcoal   -1.483333\n",
       "Propane     1.750000\n",
       "Name: Satisfaction Level, dtype: float64"
      ]
     },
     "execution_count": 34,
     "metadata": {},
     "output_type": "execute_result"
    }
   ],
   "source": [
    "# To get the answer, we need to use the SheetB data and take the average of Satisfaction Level by Grill Type\n",
    "\n",
    "SheetB.groupby('Grill Type')['Satisfaction Level'].mean()"
   ]
  },
  {
   "cell_type": "markdown",
   "metadata": {},
   "source": [
    "### Question 7: Please generate an aggregated dataset to present your conclusions.\n",
    "\n",
    "### Answer: Please see the below information for your reference."
   ]
  },
  {
   "cell_type": "code",
   "execution_count": 35,
   "metadata": {},
   "outputs": [
    {
     "data": {
      "text/plain": [
       "Grill Type\n",
       "Charcoal    4570.681\n",
       "Propane     1897.300\n",
       "Name: Fuel Cost, dtype: float64"
      ]
     },
     "execution_count": 35,
     "metadata": {},
     "output_type": "execute_result"
    }
   ],
   "source": [
    "# This is the previous answer to the question regarding which grill type cost more fuel on a long run\n",
    "\n",
    "SheetB.groupby('Grill Type')['Fuel Cost'].sum()"
   ]
  },
  {
   "cell_type": "code",
   "execution_count": 36,
   "metadata": {},
   "outputs": [
    {
     "data": {
      "text/html": [
       "<div>\n",
       "<style scoped>\n",
       "    .dataframe tbody tr th:only-of-type {\n",
       "        vertical-align: middle;\n",
       "    }\n",
       "\n",
       "    .dataframe tbody tr th {\n",
       "        vertical-align: top;\n",
       "    }\n",
       "\n",
       "    .dataframe thead tr th {\n",
       "        text-align: left;\n",
       "    }\n",
       "\n",
       "    .dataframe thead tr:last-of-type th {\n",
       "        text-align: right;\n",
       "    }\n",
       "</style>\n",
       "<table border=\"1\" class=\"dataframe\">\n",
       "  <thead>\n",
       "    <tr>\n",
       "      <th></th>\n",
       "      <th colspan=\"5\" halign=\"left\">Fuel Cost</th>\n",
       "    </tr>\n",
       "    <tr>\n",
       "      <th></th>\n",
       "      <th>sum</th>\n",
       "      <th>mean</th>\n",
       "      <th>min</th>\n",
       "      <th>max</th>\n",
       "      <th>std</th>\n",
       "    </tr>\n",
       "    <tr>\n",
       "      <th>Grill Type</th>\n",
       "      <th></th>\n",
       "      <th></th>\n",
       "      <th></th>\n",
       "      <th></th>\n",
       "      <th></th>\n",
       "    </tr>\n",
       "  </thead>\n",
       "  <tbody>\n",
       "    <tr>\n",
       "      <th>Charcoal</th>\n",
       "      <td>4570.681</td>\n",
       "      <td>380.890083</td>\n",
       "      <td>364.000</td>\n",
       "      <td>402.399</td>\n",
       "      <td>13.851468</td>\n",
       "    </tr>\n",
       "    <tr>\n",
       "      <th>Propane</th>\n",
       "      <td>1897.300</td>\n",
       "      <td>158.108333</td>\n",
       "      <td>140.875</td>\n",
       "      <td>175.200</td>\n",
       "      <td>11.165436</td>\n",
       "    </tr>\n",
       "  </tbody>\n",
       "</table>\n",
       "</div>"
      ],
      "text/plain": [
       "           Fuel Cost                                         \n",
       "                 sum        mean      min      max        std\n",
       "Grill Type                                                   \n",
       "Charcoal    4570.681  380.890083  364.000  402.399  13.851468\n",
       "Propane     1897.300  158.108333  140.875  175.200  11.165436"
      ]
     },
     "execution_count": 36,
     "metadata": {},
     "output_type": "execute_result"
    }
   ],
   "source": [
    "# This is the aggregated dataset, I also add the mean, min, max, and std along with the sum to further prove the point \n",
    "\n",
    "SheetB.groupby('Grill Type').agg({'Fuel Cost': ['sum', 'mean', 'min', 'max', 'std']})"
   ]
  },
  {
   "cell_type": "code",
   "execution_count": 37,
   "metadata": {},
   "outputs": [
    {
     "data": {
      "text/plain": [
       "Grill Type\n",
       "Charcoal   -1.483333\n",
       "Propane     1.750000\n",
       "Name: Satisfaction Level, dtype: float64"
      ]
     },
     "execution_count": 37,
     "metadata": {},
     "output_type": "execute_result"
    }
   ],
   "source": [
    "# This is the previous answer regarding user satisfaction scores between propane and charcoal\n",
    "\n",
    "SheetB.groupby('Grill Type')['Satisfaction Level'].mean()"
   ]
  },
  {
   "cell_type": "code",
   "execution_count": 38,
   "metadata": {},
   "outputs": [
    {
     "data": {
      "text/html": [
       "<div>\n",
       "<style scoped>\n",
       "    .dataframe tbody tr th:only-of-type {\n",
       "        vertical-align: middle;\n",
       "    }\n",
       "\n",
       "    .dataframe tbody tr th {\n",
       "        vertical-align: top;\n",
       "    }\n",
       "\n",
       "    .dataframe thead tr th {\n",
       "        text-align: left;\n",
       "    }\n",
       "\n",
       "    .dataframe thead tr:last-of-type th {\n",
       "        text-align: right;\n",
       "    }\n",
       "</style>\n",
       "<table border=\"1\" class=\"dataframe\">\n",
       "  <thead>\n",
       "    <tr>\n",
       "      <th></th>\n",
       "      <th colspan=\"4\" halign=\"left\">Satisfaction Level</th>\n",
       "    </tr>\n",
       "    <tr>\n",
       "      <th></th>\n",
       "      <th>mean</th>\n",
       "      <th>min</th>\n",
       "      <th>max</th>\n",
       "      <th>std</th>\n",
       "    </tr>\n",
       "    <tr>\n",
       "      <th>Grill Type</th>\n",
       "      <th></th>\n",
       "      <th></th>\n",
       "      <th></th>\n",
       "      <th></th>\n",
       "    </tr>\n",
       "  </thead>\n",
       "  <tbody>\n",
       "    <tr>\n",
       "      <th>Charcoal</th>\n",
       "      <td>-1.483333</td>\n",
       "      <td>-2.5</td>\n",
       "      <td>-0.3</td>\n",
       "      <td>0.739574</td>\n",
       "    </tr>\n",
       "    <tr>\n",
       "      <th>Propane</th>\n",
       "      <td>1.750000</td>\n",
       "      <td>0.2</td>\n",
       "      <td>2.8</td>\n",
       "      <td>0.724255</td>\n",
       "    </tr>\n",
       "  </tbody>\n",
       "</table>\n",
       "</div>"
      ],
      "text/plain": [
       "           Satisfaction Level                    \n",
       "                         mean  min  max       std\n",
       "Grill Type                                       \n",
       "Charcoal            -1.483333 -2.5 -0.3  0.739574\n",
       "Propane              1.750000  0.2  2.8  0.724255"
      ]
     },
     "execution_count": 38,
     "metadata": {},
     "output_type": "execute_result"
    }
   ],
   "source": [
    "# This is the aggregated dataset, I also add the min, max, and std along with the mean to further prove the point \n",
    "\n",
    "SheetB.groupby('Grill Type').agg({'Satisfaction Level': ['mean', 'min', 'max', 'std']})"
   ]
  },
  {
   "cell_type": "code",
   "execution_count": 39,
   "metadata": {},
   "outputs": [
    {
     "data": {
      "text/html": [
       "<div>\n",
       "<style scoped>\n",
       "    .dataframe tbody tr th:only-of-type {\n",
       "        vertical-align: middle;\n",
       "    }\n",
       "\n",
       "    .dataframe tbody tr th {\n",
       "        vertical-align: top;\n",
       "    }\n",
       "\n",
       "    .dataframe thead tr th {\n",
       "        text-align: left;\n",
       "    }\n",
       "\n",
       "    .dataframe thead tr:last-of-type th {\n",
       "        text-align: right;\n",
       "    }\n",
       "</style>\n",
       "<table border=\"1\" class=\"dataframe\">\n",
       "  <thead>\n",
       "    <tr>\n",
       "      <th></th>\n",
       "      <th colspan=\"5\" halign=\"left\">Thumbs Up Score</th>\n",
       "    </tr>\n",
       "    <tr>\n",
       "      <th></th>\n",
       "      <th>sum</th>\n",
       "      <th>mean</th>\n",
       "      <th>min</th>\n",
       "      <th>max</th>\n",
       "      <th>std</th>\n",
       "    </tr>\n",
       "    <tr>\n",
       "      <th>Grill Type</th>\n",
       "      <th></th>\n",
       "      <th></th>\n",
       "      <th></th>\n",
       "      <th></th>\n",
       "      <th></th>\n",
       "    </tr>\n",
       "  </thead>\n",
       "  <tbody>\n",
       "    <tr>\n",
       "      <th>Charcoal</th>\n",
       "      <td>664.1</td>\n",
       "      <td>1.844722</td>\n",
       "      <td>0.0</td>\n",
       "      <td>5.6</td>\n",
       "      <td>2.377043</td>\n",
       "    </tr>\n",
       "    <tr>\n",
       "      <th>Propane</th>\n",
       "      <td>800.9</td>\n",
       "      <td>2.224722</td>\n",
       "      <td>0.0</td>\n",
       "      <td>6.3</td>\n",
       "      <td>2.407943</td>\n",
       "    </tr>\n",
       "  </tbody>\n",
       "</table>\n",
       "</div>"
      ],
      "text/plain": [
       "           Thumbs Up Score                              \n",
       "                       sum      mean  min  max       std\n",
       "Grill Type                                              \n",
       "Charcoal             664.1  1.844722  0.0  5.6  2.377043\n",
       "Propane              800.9  2.224722  0.0  6.3  2.407943"
      ]
     },
     "execution_count": 39,
     "metadata": {},
     "output_type": "execute_result"
    }
   ],
   "source": [
    "# Let's also make an aggregated dataset from SheetC to explore the relationship between Thumbs Up Score and Grill Type as a reference\n",
    "\n",
    "SheetC.groupby('Grill Type').agg({'Thumbs Up Score': ['sum', 'mean', 'min', 'max', 'std']})"
   ]
  },
  {
   "cell_type": "markdown",
   "metadata": {},
   "source": [
    "### Question 8: Are your recommendations to the manufacturer different to recommendations you’d make to the user?\n",
    "\n",
    "### Answer: For the manufacturer, I recommend producing more propane-based grill as they have a higher initial cost but also higher customer ratings in all aspects. For the customer, if the usage is low, a charcoal-based grill could also be a good choice due to its low initial investment.\n",
    "\n",
    "### Let's explore different aspects by different forms of plots to get a clear picture of this case. Please see the below information for your reference."
   ]
  },
  {
   "cell_type": "code",
   "execution_count": 40,
   "metadata": {},
   "outputs": [
    {
     "data": {
      "text/plain": [
       "<AxesSubplot:xlabel='Satisfaction Level'>"
      ]
     },
     "execution_count": 40,
     "metadata": {},
     "output_type": "execute_result"
    },
    {
     "data": {
      "image/png": "[encoded data removed]",
      "text/plain": [
       "<Figure size 432x288 with 1 Axes>"
      ]
     },
     "metadata": {},
     "output_type": "display_data"
    }
   ],
   "source": [
    "# Box Plot - Checking outliers for SheetB\n",
    "\n",
    "sns.boxplot(data = SheetB, x='Satisfaction Level')\n",
    "\n",
    "# The numerical variable \"Satisfaction Level\"  looks fine. "
   ]
  },
  {
   "cell_type": "code",
   "execution_count": 41,
   "metadata": {},
   "outputs": [
    {
     "data": {
      "text/plain": [
       "<AxesSubplot:xlabel='Fuel Cost'>"
      ]
     },
     "execution_count": 41,
     "metadata": {},
     "output_type": "execute_result"
    },
    {
     "data": {
      "image/png": "[encoded data removed]",
      "text/plain": [
       "<Figure size 432x288 with 1 Axes>"
      ]
     },
     "metadata": {},
     "output_type": "display_data"
    }
   ],
   "source": [
    "# Box Plot - Checking outliers for SheetB\n",
    "\n",
    "sns.boxplot(data = SheetB, x='Fuel Cost')\n",
    "\n",
    "# The numerical variable \"Fuel Cost\"  looks fine. "
   ]
  },
  {
   "cell_type": "code",
   "execution_count": 42,
   "metadata": {},
   "outputs": [
    {
     "data": {
      "text/plain": [
       "<AxesSubplot:xlabel='Thumbs Up Score'>"
      ]
     },
     "execution_count": 42,
     "metadata": {},
     "output_type": "execute_result"
    },
    {
     "data": {
      "image/png": "[encoded data removed]",
      "text/plain": [
       "<Figure size 432x288 with 1 Axes>"
      ]
     },
     "metadata": {},
     "output_type": "display_data"
    }
   ],
   "source": [
    "# Box Plot - Checking outliers for SheetC\n",
    "\n",
    "sns.boxplot(data = SheetC, x='Thumbs Up Score')\n",
    "\n",
    "# The numerical variable \"Thumbs Up Score\"  looks fine. "
   ]
  },
  {
   "cell_type": "code",
   "execution_count": 43,
   "metadata": {},
   "outputs": [
    {
     "data": {
      "text/plain": [
       "<seaborn.axisgrid.FacetGrid at 0xb6129d0>"
      ]
     },
     "execution_count": 43,
     "metadata": {},
     "output_type": "execute_result"
    },
    {
     "data": {
      "image/png": "[encoded data removed]",
      "text/plain": [
       "<Figure size 443.85x360 with 1 Axes>"
      ]
     },
     "metadata": {},
     "output_type": "display_data"
    }
   ],
   "source": [
    "# Density Plot  - Satisfaction Level by Grill Type\n",
    "\n",
    "sns.displot(SheetB, x='Satisfaction Level', hue='Grill Type', kind='kde', fill=True, palette=('Set1'))\n",
    "\n",
    "# We can see propane has a relatively higher customer satisfaction level than charcoal among those 3 materials. We can also get the idea of most customers'  satisfaction ratings by the shape of the graph."
   ]
  },
  {
   "cell_type": "code",
   "execution_count": 44,
   "metadata": {},
   "outputs": [
    {
     "data": {
      "text/plain": [
       "<seaborn.axisgrid.FacetGrid at 0xb51df70>"
      ]
     },
     "execution_count": 44,
     "metadata": {},
     "output_type": "execute_result"
    },
    {
     "data": {
      "image/png": "[encoded data removed]",
      "text/plain": [
       "<Figure size 443.85x360 with 1 Axes>"
      ]
     },
     "metadata": {},
     "output_type": "display_data"
    }
   ],
   "source": [
    "# Density Plot  - Fuel Cost by Grill Type\n",
    "\n",
    "sns.displot(SheetB, x='Fuel Cost', hue='Grill Type', kind='kde', fill=True, palette=('Set1'))\n",
    "\n",
    "# We can easily tell charcoal has a higher fuel cost than propane among those 3 materials"
   ]
  },
  {
   "cell_type": "code",
   "execution_count": 45,
   "metadata": {},
   "outputs": [
    {
     "data": {
      "text/plain": [
       "<seaborn.axisgrid.FacetGrid at 0xb8f5ca0>"
      ]
     },
     "execution_count": 45,
     "metadata": {},
     "output_type": "execute_result"
    },
    {
     "data": {
      "image/png": "[encoded data removed]",
      "text/plain": [
       "<Figure size 490.475x360 with 1 Axes>"
      ]
     },
     "metadata": {},
     "output_type": "display_data"
    }
   ],
   "source": [
    "# Density Plot - Satisfaction Level by Material\n",
    "\n",
    "sns.displot(SheetB, x='Satisfaction Level', hue='Material', kind='kde', palette=('Set1'))\n",
    "\n",
    "# Seems like most people tend to like hotdog among 2 other materials..."
   ]
  },
  {
   "cell_type": "code",
   "execution_count": 46,
   "metadata": {},
   "outputs": [
    {
     "data": {
      "text/plain": [
       "<seaborn.axisgrid.JointGrid at 0xbbf7d90>"
      ]
     },
     "execution_count": 46,
     "metadata": {},
     "output_type": "execute_result"
    },
    {
     "data": {
      "image/png": "[encoded data removed]",
      "text/plain": [
       "<Figure size 443.85x360 with 1 Axes>"
      ]
     },
     "metadata": {},
     "output_type": "display_data"
    },
    {
     "data": {
      "image/png": "[encoded data removed]",
      "text/plain": [
       "<Figure size 432x432 with 3 Axes>"
      ]
     },
     "metadata": {},
     "output_type": "display_data"
    }
   ],
   "source": [
    "# Bivariate Distribution and Joint Marginal Distribution - Satisfaction Level by Fuel Cost based on Grill Type\n",
    "\n",
    "sns.displot(SheetB, x='Satisfaction Level', y='Fuel Cost', hue='Grill Type', kind='kde', palette=('Set1'))\n",
    "\n",
    "# This plot can easily interpret that most people have great satisfaction levels when using propane plus it is low fuel cost, quite clear. \n",
    "\n",
    "sns.jointplot(data=SheetB,  x=\"Satisfaction Level\", y=\"Fuel Cost\", hue='Grill Type', palette=('Set1'))\n",
    "\n",
    "# Joint plot with marginal distribution to use as a reference"
   ]
  },
  {
   "cell_type": "code",
   "execution_count": 47,
   "metadata": {},
   "outputs": [
    {
     "data": {
      "text/plain": [
       "<seaborn.axisgrid.FacetGrid at 0xb618e50>"
      ]
     },
     "execution_count": 47,
     "metadata": {},
     "output_type": "execute_result"
    },
    {
     "data": {
      "image/png": "[encoded data removed]",
      "text/plain": [
       "<Figure size 490.475x360 with 1 Axes>"
      ]
     },
     "metadata": {},
     "output_type": "display_data"
    }
   ],
   "source": [
    "# Scatter Plot - Satisfaction Level by Fuel Cost based on Grill Type and Material\n",
    "\n",
    "sns.relplot(data=SheetB, x='Satisfaction Level', y='Fuel Cost', hue='Grill Type', style='Material', palette=('Set1'))\n",
    "\n",
    "# Using scatter plot to visualize categorical variables to use as a reference"
   ]
  },
  {
   "cell_type": "code",
   "execution_count": 48,
   "metadata": {},
   "outputs": [
    {
     "data": {
      "text/plain": [
       "<seaborn.axisgrid.FacetGrid at 0xc7e2760>"
      ]
     },
     "execution_count": 48,
     "metadata": {},
     "output_type": "execute_result"
    },
    {
     "data": {
      "image/png": "[encoded data removed]",
      "text/plain": [
       "<Figure size 443.85x360 with 1 Axes>"
      ]
     },
     "metadata": {},
     "output_type": "display_data"
    }
   ],
   "source": [
    "# Box Plot - Material by Satisfaction Level based on Grill Type\n",
    "\n",
    "sns.catplot(data = SheetB, x='Material', y='Satisfaction Level', hue='Grill Type', kind=\"box\", palette=('Set1'))\n",
    "\n",
    "# According to the box plot, we can see the propane has a higher user satisfaction in all 3 materials"
   ]
  },
  {
   "cell_type": "code",
   "execution_count": 49,
   "metadata": {},
   "outputs": [
    {
     "data": {
      "text/plain": [
       "<AxesSubplot:xlabel='Material', ylabel='Fuel Cost'>"
      ]
     },
     "execution_count": 49,
     "metadata": {},
     "output_type": "execute_result"
    },
    {
     "data": {
      "image/png": "[encoded data removed]",
      "text/plain": [
       "<Figure size 432x288 with 1 Axes>"
      ]
     },
     "metadata": {},
     "output_type": "display_data"
    }
   ],
   "source": [
    "# Violin Plot - Material by Fuel Cost based on Grill Type\n",
    "\n",
    "sns.violinplot(data=SheetB, x='Material', y='Fuel Cost', hue='Grill Type', palette=('Set1'))\n",
    "\n",
    "# We also can have a clear picture regarding fuel costs based on propane and charcoal among all 3 materials"
   ]
  },
  {
   "cell_type": "code",
   "execution_count": 50,
   "metadata": {},
   "outputs": [
    {
     "data": {
      "text/plain": [
       "<AxesSubplot:xlabel='Grill Type', ylabel='Thumbs Up Score'>"
      ]
     },
     "execution_count": 50,
     "metadata": {},
     "output_type": "execute_result"
    },
    {
     "data": {
      "image/png": "[encoded data removed]",
      "text/plain": [
       "<Figure size 432x288 with 1 Axes>"
      ]
     },
     "metadata": {},
     "output_type": "display_data"
    }
   ],
   "source": [
    "# Violin Plot - Grill Type by Thumbs Up Score based on Frozen\n",
    "\n",
    "sns.violinplot(data = SheetC, x='Grill Type', y='Thumbs Up Score', hue='Frozen', palette=('mako'))\n",
    "\n",
    "# It seems propane and charcoal have similar thumbs up scores despite the frozen status of the materials "
   ]
  },
  {
   "cell_type": "code",
   "execution_count": 51,
   "metadata": {},
   "outputs": [
    {
     "data": {
      "text/plain": [
       "<seaborn.axisgrid.FacetGrid at 0xe5d8fa0>"
      ]
     },
     "execution_count": 51,
     "metadata": {},
     "output_type": "execute_result"
    },
    {
     "data": {
      "image/png": "[encoded data removed]",
      "text/plain": [
       "<Figure size 426.35x360 with 1 Axes>"
      ]
     },
     "metadata": {},
     "output_type": "display_data"
    }
   ],
   "source": [
    "# Box Plot - Material by Thumbs Up Score based on Frozen\n",
    "\n",
    "sns.catplot(data = SheetC, x='Material', y='Thumbs Up Score', hue='Frozen', kind=\"box\", palette=('mako'))\n",
    "\n",
    "# It seems hotdog and ground beef patty are very popular to most people with high thumbs up scores no matter they are frozen or not. "
   ]
  },
  {
   "cell_type": "code",
   "execution_count": 52,
   "metadata": {},
   "outputs": [
    {
     "data": {
      "text/plain": [
       "<seaborn.axisgrid.FacetGrid at 0xe5880d0>"
      ]
     },
     "execution_count": 52,
     "metadata": {},
     "output_type": "execute_result"
    },
    {
     "data": {
      "image/png": "[encoded data removed]",
      "text/plain": [
       "<Figure size 443.85x360 with 1 Axes>"
      ]
     },
     "metadata": {},
     "output_type": "display_data"
    }
   ],
   "source": [
    "# Box Plot - Material by Thumbs Up Score based on Grill Type\n",
    "\n",
    "sns.catplot(data = SheetC, x='Material', y='Thumbs Up Score', hue='Grill Type', kind=\"box\", palette=('Set2'))\n",
    "\n",
    "# It seems charcoal hotdog and propane ground beef patty have high thumbs up scores in taste among most people"
   ]
  },
  {
   "cell_type": "code",
   "execution_count": 53,
   "metadata": {},
   "outputs": [
    {
     "data": {
      "text/plain": [
       "<AxesSubplot:xlabel='Grill Type', ylabel='count'>"
      ]
     },
     "execution_count": 53,
     "metadata": {},
     "output_type": "execute_result"
    },
    {
     "data": {
      "image/png": "[encoded data removed]",
      "text/plain": [
       "<Figure size 432x288 with 1 Axes>"
      ]
     },
     "metadata": {},
     "output_type": "display_data"
    }
   ],
   "source": [
    "# Count Plot - Grill Type by Guess Grill Type Correct \n",
    "\n",
    "sns.countplot(data=SheetC, x='Grill Type', hue='Guess Grill Type Correct?', palette=('mako'))\n",
    "\n",
    "# It seems most people can easily tell the difference between cooking in propane and charcoal"
   ]
  },
  {
   "cell_type": "code",
   "execution_count": 54,
   "metadata": {},
   "outputs": [
    {
     "data": {
      "text/plain": [
       "<seaborn.axisgrid.PairGrid at 0xc7abcd0>"
      ]
     },
     "execution_count": 54,
     "metadata": {},
     "output_type": "execute_result"
    },
    {
     "data": {
      "image/png": "[encoded data removed]",
      "text/plain": [
       "<Figure size 506.925x360 with 6 Axes>"
      ]
     },
     "metadata": {},
     "output_type": "display_data"
    }
   ],
   "source": [
    "# Pair Plot - Guess Grill Type Correct based on Frozen and Thumbs Up Score\n",
    "\n",
    "sns.pairplot(SheetC, hue = 'Guess Grill Type Correct?')\n",
    "\n",
    "# We can also have a general idea about how these variables interact with each other"
   ]
  },
  {
   "cell_type": "markdown",
   "metadata": {},
   "source": [
    "### Question: (Bonus) Transform SheetC.json to SheetC.csv\n",
    "\n",
    "### Answer: Please see the below information for your reference."
   ]
  },
  {
   "cell_type": "code",
   "execution_count": 55,
   "metadata": {},
   "outputs": [],
   "source": [
    "# Load SheetC.json to a variable raw_data \n",
    "\n",
    "with open('SheetC.json') as f:\n",
    "    raw_data = json.load(f)\n"
   ]
  },
  {
   "cell_type": "code",
   "execution_count": 56,
   "metadata": {},
   "outputs": [
    {
     "data": {
      "text/plain": [
       "list"
      ]
     },
     "execution_count": 56,
     "metadata": {},
     "output_type": "execute_result"
    }
   ],
   "source": [
    "# Now raw_data is a list \n",
    "\n",
    "type(raw_data) "
   ]
  },
  {
   "cell_type": "code",
   "execution_count": 57,
   "metadata": {},
   "outputs": [],
   "source": [
    "# Transform raw_data to a dictionary\n",
    "\n",
    "raw_dict = raw_data[0]"
   ]
  },
  {
   "cell_type": "code",
   "execution_count": 58,
   "metadata": {},
   "outputs": [
    {
     "data": {
      "text/plain": [
       "dict"
      ]
     },
     "execution_count": 58,
     "metadata": {},
     "output_type": "execute_result"
    }
   ],
   "source": [
    "#Now raw_dict is a dictionary \n",
    "\n",
    "type(raw_dict)"
   ]
  },
  {
   "cell_type": "code",
   "execution_count": 59,
   "metadata": {},
   "outputs": [],
   "source": [
    "# We have to get the value from key test_result \n",
    "\n",
    "for i in raw_dict:\n",
    "    new_dict = raw_dict[i] "
   ]
  },
  {
   "cell_type": "code",
   "execution_count": 60,
   "metadata": {},
   "outputs": [
    {
     "data": {
      "text/plain": [
       "str"
      ]
     },
     "execution_count": 60,
     "metadata": {},
     "output_type": "execute_result"
    }
   ],
   "source": [
    "# Now new_dict is a string\n",
    "\n",
    "type(new_dict)"
   ]
  },
  {
   "cell_type": "code",
   "execution_count": 61,
   "metadata": {},
   "outputs": [],
   "source": [
    "# Transform new_dict to a dictionary\n",
    "\n",
    "data = eval(new_dict)"
   ]
  },
  {
   "cell_type": "code",
   "execution_count": 62,
   "metadata": {},
   "outputs": [
    {
     "data": {
      "text/plain": [
       "dict"
      ]
     },
     "execution_count": 62,
     "metadata": {},
     "output_type": "execute_result"
    }
   ],
   "source": [
    "# Now data is a dictionary\n",
    "\n",
    "type(data)"
   ]
  },
  {
   "cell_type": "code",
   "execution_count": 63,
   "metadata": {},
   "outputs": [],
   "source": [
    "# Get the value from meta_data and survey_result, put them in dataframes\n",
    "\n",
    "df_meta_data= pd.DataFrame()\n",
    "df_survey_result= pd.DataFrame()\n",
    "\n",
    "for k1 in data:\n",
    "    data1=data[k1]\n",
    "    df1 = pd.DataFrame.from_dict(data1['meta_data'], orient='index').T\n",
    "    df_meta_data = df_meta_data.append(df1)\n",
    "    \n",
    "for k2 in data:\n",
    "    data2=data[k2]\n",
    "    df2 = pd.DataFrame.from_dict(data2['survey_result'], orient='index').T\n",
    "    df_survey_result = df_survey_result.append(df2)"
   ]
  },
  {
   "cell_type": "code",
   "execution_count": 64,
   "metadata": {},
   "outputs": [],
   "source": [
    "# Get the value from sample_item_index, put it in dataframe\n",
    "\n",
    "df_sample_item_index=pd.DataFrame()\n",
    "\n",
    "for k3 in data:\n",
    "    data3=data[k3]\n",
    "    del data3['meta_data']\n",
    "    del data3['survey_result']\n",
    "    df3 = pd.DataFrame.from_dict(data3, orient='index').T\n",
    "    df_sample_item_index = df_sample_item_index.append(df3)"
   ]
  },
  {
   "cell_type": "code",
   "execution_count": 65,
   "metadata": {},
   "outputs": [
    {
     "data": {
      "text/html": [
       "<div>\n",
       "<style scoped>\n",
       "    .dataframe tbody tr th:only-of-type {\n",
       "        vertical-align: middle;\n",
       "    }\n",
       "\n",
       "    .dataframe tbody tr th {\n",
       "        vertical-align: top;\n",
       "    }\n",
       "\n",
       "    .dataframe thead th {\n",
       "        text-align: right;\n",
       "    }\n",
       "</style>\n",
       "<table border=\"1\" class=\"dataframe\">\n",
       "  <thead>\n",
       "    <tr style=\"text-align: right;\">\n",
       "      <th></th>\n",
       "      <th>sample_item_index</th>\n",
       "      <th>item_material</th>\n",
       "      <th>is_frozen</th>\n",
       "      <th>grill_type</th>\n",
       "      <th>thumbs_up_score</th>\n",
       "      <th>guess_grill_correct</th>\n",
       "    </tr>\n",
       "  </thead>\n",
       "  <tbody>\n",
       "    <tr>\n",
       "      <th>0</th>\n",
       "      <td>1</td>\n",
       "      <td>Hotdog</td>\n",
       "      <td>false</td>\n",
       "      <td>Propane</td>\n",
       "      <td>0.4</td>\n",
       "      <td>true</td>\n",
       "    </tr>\n",
       "    <tr>\n",
       "      <th>0</th>\n",
       "      <td>10</td>\n",
       "      <td>Hotdog</td>\n",
       "      <td>true</td>\n",
       "      <td>Propane</td>\n",
       "      <td>1.0</td>\n",
       "      <td>true</td>\n",
       "    </tr>\n",
       "    <tr>\n",
       "      <th>0</th>\n",
       "      <td>10</td>\n",
       "      <td>Hotdog</td>\n",
       "      <td>true</td>\n",
       "      <td>Propane</td>\n",
       "      <td>0.0</td>\n",
       "      <td>true</td>\n",
       "    </tr>\n",
       "    <tr>\n",
       "      <th>0</th>\n",
       "      <td>11</td>\n",
       "      <td>Hotdog</td>\n",
       "      <td>false</td>\n",
       "      <td>Propane</td>\n",
       "      <td>0.0</td>\n",
       "      <td>true</td>\n",
       "    </tr>\n",
       "    <tr>\n",
       "      <th>0</th>\n",
       "      <td>12</td>\n",
       "      <td>Hotdog</td>\n",
       "      <td>true</td>\n",
       "      <td>Propane</td>\n",
       "      <td>0.4</td>\n",
       "      <td>true</td>\n",
       "    </tr>\n",
       "    <tr>\n",
       "      <th>...</th>\n",
       "      <td>...</td>\n",
       "      <td>...</td>\n",
       "      <td>...</td>\n",
       "      <td>...</td>\n",
       "      <td>...</td>\n",
       "      <td>...</td>\n",
       "    </tr>\n",
       "    <tr>\n",
       "      <th>0</th>\n",
       "      <td>5</td>\n",
       "      <td>Hotdog</td>\n",
       "      <td>false</td>\n",
       "      <td>Propane</td>\n",
       "      <td>0.2</td>\n",
       "      <td>true</td>\n",
       "    </tr>\n",
       "    <tr>\n",
       "      <th>0</th>\n",
       "      <td>6</td>\n",
       "      <td>Hotdog</td>\n",
       "      <td>true</td>\n",
       "      <td>Propane</td>\n",
       "      <td>0.3</td>\n",
       "      <td>true</td>\n",
       "    </tr>\n",
       "    <tr>\n",
       "      <th>0</th>\n",
       "      <td>7</td>\n",
       "      <td>Hotdog</td>\n",
       "      <td>false</td>\n",
       "      <td>Propane</td>\n",
       "      <td>0.2</td>\n",
       "      <td>true</td>\n",
       "    </tr>\n",
       "    <tr>\n",
       "      <th>0</th>\n",
       "      <td>8</td>\n",
       "      <td>Hotdog</td>\n",
       "      <td>true</td>\n",
       "      <td>Propane</td>\n",
       "      <td>0.9</td>\n",
       "      <td>true</td>\n",
       "    </tr>\n",
       "    <tr>\n",
       "      <th>0</th>\n",
       "      <td>9</td>\n",
       "      <td>Hotdog</td>\n",
       "      <td>false</td>\n",
       "      <td>Propane</td>\n",
       "      <td>0.7</td>\n",
       "      <td>true</td>\n",
       "    </tr>\n",
       "  </tbody>\n",
       "</table>\n",
       "<p>720 rows × 6 columns</p>\n",
       "</div>"
      ],
      "text/plain": [
       "    sample_item_index item_material is_frozen grill_type thumbs_up_score  \\\n",
       "0                   1        Hotdog     false    Propane             0.4   \n",
       "0                  10        Hotdog      true    Propane             1.0   \n",
       "0                  10        Hotdog      true    Propane             0.0   \n",
       "0                  11        Hotdog     false    Propane             0.0   \n",
       "0                  12        Hotdog      true    Propane             0.4   \n",
       "..                ...           ...       ...        ...             ...   \n",
       "0                   5        Hotdog     false    Propane             0.2   \n",
       "0                   6        Hotdog      true    Propane             0.3   \n",
       "0                   7        Hotdog     false    Propane             0.2   \n",
       "0                   8        Hotdog      true    Propane             0.9   \n",
       "0                   9        Hotdog     false    Propane             0.7   \n",
       "\n",
       "   guess_grill_correct  \n",
       "0                 true  \n",
       "0                 true  \n",
       "0                 true  \n",
       "0                 true  \n",
       "0                 true  \n",
       "..                 ...  \n",
       "0                 true  \n",
       "0                 true  \n",
       "0                 true  \n",
       "0                 true  \n",
       "0                 true  \n",
       "\n",
       "[720 rows x 6 columns]"
      ]
     },
     "execution_count": 65,
     "metadata": {},
     "output_type": "execute_result"
    }
   ],
   "source": [
    "# Use concat to combine all three dataframes and change column order \n",
    "\n",
    "SheetC_temp=pd.concat([df_meta_data,df_survey_result,df_sample_item_index], axis=1)\n",
    "SheetC = SheetC_temp[['sample_item_index', 'item_material','is_frozen','grill_type','thumbs_up_score', 'guess_grill_correct']]\n",
    "SheetC"
   ]
  },
  {
   "cell_type": "code",
   "execution_count": 66,
   "metadata": {},
   "outputs": [],
   "source": [
    "# Export SheetC dataframe to SheetC.csv\n",
    "\n",
    "SheetC.to_csv(r'SheetC.csv', index = False)"
   ]
  }
 ],
 "metadata": {
  "kernelspec": {
   "display_name": "Python 3",
   "language": "python",
   "name": "python3"
  },
  "language_info": {
   "codemirror_mode": {
    "name": "ipython",
    "version": 3
   },
   "file_extension": ".py",
   "mimetype": "text/x-python",
   "name": "python",
   "nbconvert_exporter": "python",
   "pygments_lexer": "ipython3",
   "version": "3.7.8"
  }
 },
 "nbformat": 4,
 "nbformat_minor": 2
}
